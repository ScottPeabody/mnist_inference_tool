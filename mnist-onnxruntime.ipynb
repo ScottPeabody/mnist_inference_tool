{
 "cells": [
  {
   "cell_type": "markdown",
   "id": "f6bdca80",
   "metadata": {},
   "source": [
    "## MNIST Digit Classification with ONNX and OpenCV\n",
    "\n",
    "This notebook is mainly for me to make sure what I am doing in rust makes sense since as of authoring this I am still getting used to using the libraries and type system in rust. It demonstrates how to use an ONNX model trained on the MNIST dataset to classify digits from images. It utilizes OpenCV for image loading and preprocessing, and ONNX Runtime (`onnxruntime`) for running inference. I am also using np for the preprocessing. These libraries are pretty optimized in python, so it gives me a mild benchmark so that I know I am going in the right direction as I learn and optimize in rust.\n",
    "\n",
    "### Code Explanation\n",
    "\n",
    "The script performs the following steps:\n",
    "\n",
    "1. **Loading the ONNX Model:**\n",
    "   - Loads the pre-trained ONNX model (`mnist-12.onnx`) using `onnxruntime.InferenceSession`.\n",
    "\n",
    "2. **Loading and Preprocessing the Image:**\n",
    "   - Loads an image of the number `9` using OpenCV (`cv2`), converts it to grayscale, resizes it to 28x28 pixels, and normalizes pixel values to a range of [0, 1].\n",
    "\n",
    "3. **Running Inference:**\n",
    "   - Prepares the preprocessed image data in the expected format (1x1x28x28) and feeds it into the ONNX model for inference using `session.run`.\n",
    "\n",
    "4. **Post-processing:**\n",
    "   - Retrieves raw logits from the model output, applies softmax to obtain class probabilities, and determines the predicted digit by selecting the class with the highest probability.\n",
    "\n",
    "5. **Output:**\n",
    "   - Prints the predicted digit and the total execution time in milliseconds.\n",
    "\n",
    "### Example Output\n",
    "\n"
   ]
  },
  {
   "cell_type": "code",
   "execution_count": null,
   "id": "2b3f17d8",
   "metadata": {},
   "outputs": [
    {
     "name": "stdout",
     "output_type": "stream",
     "text": [
      "Predicted Digit: 9\n",
      "Total Execution Time: 4.40 milliseconds\n"
     ]
    }
   ],
   "source": [
    "import onnxruntime as ort\n",
    "import cv2\n",
    "import numpy as np\n",
    "import time\n",
    "\n",
    "\n",
    "def main():\n",
    "    start_time = time.time()\n",
    "    \n",
    "    # Load the ONNX model\n",
    "    model_path = 'mnist-12.onnx'\n",
    "    session = ort.InferenceSession(model_path)\n",
    "\n",
    "    # Load the image\n",
    "    image_path = 'test_digit_data/9/2.jpg'\n",
    "    image = cv2.imread(image_path, cv2.IMREAD_GRAYSCALE)\n",
    "\n",
    "    # Resize and normalize\n",
    "    image = cv2.resize(image, (28, 28)).astype(np.float32) / 255.0\n",
    "\n",
    "    # Add batch dimension and reshape as expected by the model\n",
    "    input_data = image.reshape(1, 1, 28, 28)\n",
    "\n",
    "    # Run inference\n",
    "    raw_output = session.run(None, {'Input3': input_data})\n",
    "\n",
    "    # Extract the raw output probabilities (before softmax)\n",
    "    raw_probabilities = raw_output[0]\n",
    "\n",
    "    # Apply softmax to get probabilities\n",
    "    probabilities = np.exp(raw_probabilities) / np.sum(np.exp(raw_probabilities), axis=1)\n",
    "\n",
    "    # Get the predicted digit (class with highest probability)\n",
    "    predicted_digit = np.argmax(probabilities)\n",
    "\n",
    "    # Print the result and inference time\n",
    "    print(f'Predicted Digit: {predicted_digit}')\n",
    "\n",
    "    end_time = time.time()\n",
    "    total_time_ms = (end_time - start_time) * 1000\n",
    "    print(f'Total Execution Time: {total_time_ms:.2f} milliseconds')\n",
    "\n",
    "\n",
    "if __name__ == '__main__':\n",
    "    main()\n"
   ]
  }
 ],
 "metadata": {
  "kernelspec": {
   "display_name": "Python 3 (ipykernel)",
   "language": "python",
   "name": "python3"
  },
  "language_info": {
   "codemirror_mode": {
    "name": "ipython",
    "version": 3
   },
   "file_extension": ".py",
   "mimetype": "text/x-python",
   "name": "python",
   "nbconvert_exporter": "python",
   "pygments_lexer": "ipython3",
   "version": "3.12.2"
  }
 },
 "nbformat": 4,
 "nbformat_minor": 5
}
